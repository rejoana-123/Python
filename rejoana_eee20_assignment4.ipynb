{
 "cells": [
  {
   "cell_type": "markdown",
   "id": "alert-killing",
   "metadata": {},
   "source": [
    "1.Write a Python program to find those numbers which are divisible by 8 and 3 but multiple of 9, between 1000 and 1800 (both included).\n",
    "\n",
    "solution:"
   ]
  },
  {
   "cell_type": "code",
   "execution_count": 1,
   "id": "transsexual-anderson",
   "metadata": {},
   "outputs": [
    {
     "name": "stdout",
     "output_type": "stream",
     "text": [
      "['1008', '1080', '1152', '1224', '1296', '1368', '1440', '1512', '1584', '1656', '1728', '1800']\n"
     ]
    }
   ],
   "source": [
    "n = []\n",
    "for i in range (1000, 1801):\n",
    "    if (i%8 == 0) and (i%3 == 0) and (i%9 == 0):\n",
    "        n.append(str(i))\n",
    "print(n)"
   ]
  },
  {
   "cell_type": "markdown",
   "id": "synthetic-spirit",
   "metadata": {},
   "source": [
    "\n",
    "2.tuple = ('I','E','E','E','H','S','T','U','S','B')using this tuple, write a program whose output will be IEEE HSTU SB.\n",
    "\n",
    "Solution:"
   ]
  },
  {
   "cell_type": "code",
   "execution_count": 2,
   "id": "blond-spank",
   "metadata": {},
   "outputs": [
    {
     "name": "stdout",
     "output_type": "stream",
     "text": [
      "IEEE HSTU SB\n"
     ]
    }
   ],
   "source": [
    "a_tuple = (\"I\",\"E\",\"E\",\"E\",\"H\",\"S\",\"T\",\"U\",\"S\",\"B\")\n",
    "\n",
    "a = \"\".join(a_tuple[:4])\n",
    "b=\"\".join(a_tuple[4:8])\n",
    "c=\"\".join(a_tuple[8:10])\n",
    "\n",
    "print(a,b,c)"
   ]
  },
  {
   "cell_type": "markdown",
   "id": "amber-concentration",
   "metadata": {},
   "source": [
    "3.Write a python program to check a triangle is equilateral.\n",
    "\n",
    "solution:"
   ]
  },
  {
   "cell_type": "code",
   "execution_count": 4,
   "id": "coupled-somalia",
   "metadata": {},
   "outputs": [
    {
     "name": "stdout",
     "output_type": "stream",
     "text": [
      "Enter lengths of the triangle sides: \n",
      "x: 5\n",
      "y: 5\n",
      "z: 5\n",
      "Equilateral triangle\n"
     ]
    }
   ],
   "source": [
    "print(\"Enter lengths of the triangle sides: \")\n",
    "x = int(input(\"x: \"))\n",
    "y = int(input(\"y: \"))\n",
    "z = int(input(\"z: \"))\n",
    " \n",
    "if x == y == z:\n",
    "    print(\"Equilateral triangle\")\n",
    "elif x==y or y==z or z==x:\n",
    "    print(\"isosceles triangle\")\n",
    "else:\n",
    "    print(\"Scalene triangle\")"
   ]
  },
  {
   "cell_type": "markdown",
   "id": "working-execution",
   "metadata": {},
   "source": [
    "4.Write a Python program to create the multiplication table (from 1 to 10) of a number.\n",
    "\n",
    "solution:"
   ]
  },
  {
   "cell_type": "code",
   "execution_count": 5,
   "id": "saving-camel",
   "metadata": {},
   "outputs": [
    {
     "name": "stdout",
     "output_type": "stream",
     "text": [
      "Input a number: 6\n",
      "6 x 1 = 6\n",
      "6 x 2 = 12\n",
      "6 x 3 = 18\n",
      "6 x 4 = 24\n",
      "6 x 5 = 30\n",
      "6 x 6 = 36\n",
      "6 x 7 = 42\n",
      "6 x 8 = 48\n",
      "6 x 9 = 54\n",
      "6 x 10 = 60\n"
     ]
    }
   ],
   "source": [
    "n = int(input(\"Input a number: \"))\n",
    " \n",
    "# use for loop to iterate 10 times\n",
    "for i in range(1,11):\n",
    "   print(n,'x',i,'=',n*i)"
   ]
  },
  {
   "cell_type": "markdown",
   "id": "electric-abraham",
   "metadata": {},
   "source": [
    "5.Write a python program to check whether a given year is a leap year\n",
    "\n",
    "solution:"
   ]
  },
  {
   "cell_type": "code",
   "execution_count": 8,
   "id": "geographic-nelson",
   "metadata": {},
   "outputs": [
    {
     "name": "stdout",
     "output_type": "stream",
     "text": [
      "Enter year to be checked:2016\n",
      "The year is a leap year!\n"
     ]
    }
   ],
   "source": [
    "year=int(input(\"Enter year to be checked:\"))\n",
    "if(year%4==0 and year%100!=0 or year%400==0):\n",
    "    print(\"The year is a leap year!\")\n",
    "else:\n",
    "    print(\"The year isn't a leap year!\")"
   ]
  },
  {
   "cell_type": "markdown",
   "id": "numerical-brunswick",
   "metadata": {},
   "source": [
    "6.Write the programs to get the areas of a) triangle, b)Rectangle, c) circle.\n",
    "\n",
    "solution:"
   ]
  },
  {
   "cell_type": "code",
   "execution_count": 10,
   "id": "manufactured-hepatitis",
   "metadata": {},
   "outputs": [
    {
     "name": "stdout",
     "output_type": "stream",
     "text": [
      "Please enter the correct spelling in lowercase\n",
      "Enter a shape name amongst triangle, rectangle, circle for which you want to calculagte the area: triangle\n",
      "Enter triangle's height: 5\n",
      "Enter triangle's base: 3\n",
      "Area of tringle:  7.5\n"
     ]
    }
   ],
   "source": [
    "print(\"Please enter the correct spelling in lowercase\")\n",
    "shape = input(\"Enter a shape name amongst triangle, rectangle, circle for which you want to calculagte the area: \")\n",
    "    \n",
    "if shape == \"triangle\":\n",
    "    h = int(input(\"Enter triangle's height: \"))\n",
    "    w = int(input(\"Enter triangle's base: \"))\n",
    "    triangle_area = print(\"Area of tringle: \",1/2*int(h)*int(w))\n",
    " \n",
    "elif shape == \"rectangle\":\n",
    "    l = int(input(\"Enter rectangle's length\"))\n",
    "    b = int(input(\"Enter rectangle's weight\"))\n",
    "    rectangle_area = print(\"Area of rectangle: \",int(l)*int(b))\n",
    " \n",
    "elif shape == \"circle\":\n",
    "    r = int(input(\"Enter circle's radius:\"))\n",
    "    pi = 3.14\n",
    "    circle_area = print(\"Area of circle: \", int(pi)*int(r)*int(r))\n",
    "else:\n",
    "          print(f\"Sorry! This shape is not aailable\")\n",
    "  "
   ]
  },
  {
   "cell_type": "code",
   "execution_count": null,
   "id": "alive-drove",
   "metadata": {},
   "outputs": [],
   "source": []
  }
 ],
 "metadata": {
  "kernelspec": {
   "display_name": "Python 3",
   "language": "python",
   "name": "python3"
  },
  "language_info": {
   "codemirror_mode": {
    "name": "ipython",
    "version": 3
   },
   "file_extension": ".py",
   "mimetype": "text/x-python",
   "name": "python",
   "nbconvert_exporter": "python",
   "pygments_lexer": "ipython3",
   "version": "3.9.2"
  }
 },
 "nbformat": 4,
 "nbformat_minor": 5
}
